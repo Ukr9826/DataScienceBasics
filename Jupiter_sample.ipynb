{
    "cells": [
        {
            "cell_type": "markdown",
            "metadata": {},
            "source": "# UOL accomodation data"
        },
        {
            "cell_type": "code",
            "execution_count": 1,
            "metadata": {},
            "outputs": [
                {
                    "data": {
                        "text/html": "<div>\n<style scoped>\n    .dataframe tbody tr th:only-of-type {\n        vertical-align: middle;\n    }\n\n    .dataframe tbody tr th {\n        vertical-align: top;\n    }\n\n    .dataframe thead th {\n        text-align: right;\n    }\n</style>\n<table border=\"1\" class=\"dataframe\">\n  <thead>\n    <tr style=\"text-align: right;\">\n      <th></th>\n      <th>Timestamp</th>\n      <th>Name</th>\n      <th>Email ID</th>\n      <th>Mobile Number</th>\n      <th>Age</th>\n      <th>Gender</th>\n      <th>Course Name</th>\n      <th>Have you finalised/booked your accommodation</th>\n      <th>If Yes, which accommodation?</th>\n      <th>Food choice</th>\n      <th>...</th>\n      <th>[Other Choices]</th>\n      <th>In addition the properties mentioned above, if you have any other sugestions, please mention them here</th>\n      <th>Remarks</th>\n      <th>City</th>\n      <th>Have you finalised your decision to join the University of Leeds</th>\n      <th>Unnamed: 22</th>\n      <th>Unnamed: 23</th>\n      <th>Unnamed: 24</th>\n      <th>Unnamed: 25</th>\n      <th>Unnamed: 26</th>\n    </tr>\n  </thead>\n  <tbody>\n    <tr>\n      <th>0</th>\n      <td>2022-03-17 06:34:16.456</td>\n      <td>Ritika Sowda</td>\n      <td>sowdaritika@gmail.com</td>\n      <td>+91 9742351167</td>\n      <td>23</td>\n      <td>Female</td>\n      <td>MSc. Ecological Economics</td>\n      <td>Yes</td>\n      <td>Blenheim Point</td>\n      <td>NaN</td>\n      <td>...</td>\n      <td>NaN</td>\n      <td>NaN</td>\n      <td>NaN</td>\n      <td>Bangalore</td>\n      <td>Yes</td>\n      <td>NaN</td>\n      <td>Finalised Leeds</td>\n      <td>196</td>\n      <td>NaN</td>\n      <td>NaN</td>\n    </tr>\n    <tr>\n      <th>1</th>\n      <td>2022-03-12 20:00:05.061</td>\n      <td>Akanksha Khubbar</td>\n      <td>akankshakhubbar5776@gmail.com</td>\n      <td>6283185737</td>\n      <td>22</td>\n      <td>Female</td>\n      <td>M. Sc in Clinical embryology and assisted repr...</td>\n      <td>Yes</td>\n      <td>Grayson heights</td>\n      <td>Non-Veg</td>\n      <td>...</td>\n      <td>NaN</td>\n      <td>NaN</td>\n      <td>NaN</td>\n      <td>Chandigarh</td>\n      <td>Yes</td>\n      <td>NaN</td>\n      <td>Not Yet finalised</td>\n      <td>25</td>\n      <td>Finalised Accom</td>\n      <td>71.0</td>\n    </tr>\n    <tr>\n      <th>2</th>\n      <td>2022-03-11 00:24:48.711</td>\n      <td>Sankalp Lokhande</td>\n      <td>sankalplokhande.spl@gmail.com</td>\n      <td>+918793715815</td>\n      <td>21</td>\n      <td>Male</td>\n      <td>Engineering Project Management</td>\n      <td>Yes</td>\n      <td>Oak House</td>\n      <td>NaN</td>\n      <td>...</td>\n      <td>NaN</td>\n      <td>NaN</td>\n      <td>NaN</td>\n      <td>Julgaon</td>\n      <td>Yes</td>\n      <td>NaN</td>\n      <td>Not yet filled</td>\n      <td>11</td>\n      <td>Not Yet finalised accom</td>\n      <td>160.0</td>\n    </tr>\n    <tr>\n      <th>3</th>\n      <td>2022-03-11 06:26:54.720</td>\n      <td>Rohan Philmore</td>\n      <td>rohanphilmore99@gmail.com</td>\n      <td>+918220673889</td>\n      <td>22</td>\n      <td>Male</td>\n      <td>MiM</td>\n      <td>Yes</td>\n      <td>Oak House</td>\n      <td>NaN</td>\n      <td>...</td>\n      <td>NaN</td>\n      <td>NaN</td>\n      <td>NaN</td>\n      <td>Chennai</td>\n      <td>Yes</td>\n      <td>NaN</td>\n      <td>NaN</td>\n      <td>232</td>\n      <td>NaN</td>\n      <td>231.0</td>\n    </tr>\n    <tr>\n      <th>4</th>\n      <td>2022-03-11 08:51:36.456</td>\n      <td>JANHAVI THAKURDESAI</td>\n      <td>janhavithakurdesai@yahoo.com</td>\n      <td>+919833928316</td>\n      <td>23</td>\n      <td>Female</td>\n      <td>MA Human Resource Management</td>\n      <td>Yes</td>\n      <td>Oak House</td>\n      <td>NaN</td>\n      <td>...</td>\n      <td>NaN</td>\n      <td>NaN</td>\n      <td>NaN</td>\n      <td>Mumbai</td>\n      <td>Yes</td>\n      <td>NaN</td>\n      <td>NaN</td>\n      <td>NaN</td>\n      <td>NaN</td>\n      <td>NaN</td>\n    </tr>\n  </tbody>\n</table>\n<p>5 rows \u00d7 27 columns</p>\n</div>",
                        "text/plain": "                Timestamp                 Name                       Email ID  \\\n0 2022-03-17 06:34:16.456         Ritika Sowda          sowdaritika@gmail.com   \n1 2022-03-12 20:00:05.061     Akanksha Khubbar  akankshakhubbar5776@gmail.com   \n2 2022-03-11 00:24:48.711     Sankalp Lokhande  sankalplokhande.spl@gmail.com   \n3 2022-03-11 06:26:54.720      Rohan Philmore       rohanphilmore99@gmail.com   \n4 2022-03-11 08:51:36.456  JANHAVI THAKURDESAI   janhavithakurdesai@yahoo.com   \n\n    Mobile Number  Age  Gender  \\\n0  +91 9742351167   23  Female   \n1      6283185737   22  Female   \n2   +918793715815   21    Male   \n3   +918220673889   22    Male   \n4   +919833928316   23  Female   \n\n                                         Course Name  \\\n0                          MSc. Ecological Economics   \n1  M. Sc in Clinical embryology and assisted repr...   \n2                    Engineering Project Management    \n3                                                MiM   \n4                       MA Human Resource Management   \n\n  Have you finalised/booked your accommodation If Yes, which accommodation?  \\\n0                                          Yes               Blenheim Point   \n1                                          Yes              Grayson heights   \n2                                          Yes                    Oak House   \n3                                          Yes                    Oak House   \n4                                          Yes                    Oak House   \n\n  Food choice  ...  [Other Choices]  \\\n0         NaN  ...              NaN   \n1     Non-Veg  ...              NaN   \n2         NaN  ...              NaN   \n3         NaN  ...              NaN   \n4         NaN  ...              NaN   \n\n  In addition the properties mentioned above, if you have any other sugestions, please mention them here  \\\n0                                                NaN                                                       \n1                                                NaN                                                       \n2                                                NaN                                                       \n3                                                NaN                                                       \n4                                                NaN                                                       \n\n  Remarks        City  \\\n0     NaN   Bangalore   \n1     NaN  Chandigarh   \n2     NaN     Julgaon   \n3     NaN     Chennai   \n4     NaN      Mumbai   \n\n  Have you finalised your decision to join the University of Leeds  \\\n0                                                Yes                 \n1                                                Yes                 \n2                                                Yes                 \n3                                                Yes                 \n4                                                Yes                 \n\n  Unnamed: 22        Unnamed: 23 Unnamed: 24              Unnamed: 25  \\\n0         NaN    Finalised Leeds         196                      NaN   \n1         NaN  Not Yet finalised          25          Finalised Accom   \n2         NaN     Not yet filled          11  Not Yet finalised accom   \n3         NaN                NaN         232                      NaN   \n4         NaN                NaN         NaN                      NaN   \n\n  Unnamed: 26  \n0         NaN  \n1        71.0  \n2       160.0  \n3       231.0  \n4         NaN  \n\n[5 rows x 27 columns]"
                    },
                    "execution_count": 1,
                    "metadata": {},
                    "output_type": "execute_result"
                }
            ],
            "source": "# The code was removed by Watson Studio for sharing."
        },
        {
            "cell_type": "code",
            "execution_count": null,
            "metadata": {},
            "outputs": [],
            "source": ""
        }
    ],
    "metadata": {
        "kernelspec": {
            "display_name": "Python 3.9",
            "language": "python",
            "name": "python3"
        },
        "language_info": {
            "codemirror_mode": {
                "name": "ipython",
                "version": 3
            },
            "file_extension": ".py",
            "mimetype": "text/x-python",
            "name": "python",
            "nbconvert_exporter": "python",
            "pygments_lexer": "ipython3",
            "version": "3.9.12"
        }
    },
    "nbformat": 4,
    "nbformat_minor": 1
}